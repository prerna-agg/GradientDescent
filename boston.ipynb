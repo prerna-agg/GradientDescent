{
 "metadata": {
  "language_info": {
   "codemirror_mode": {
    "name": "ipython",
    "version": 3
   },
   "file_extension": ".py",
   "mimetype": "text/x-python",
   "name": "python",
   "nbconvert_exporter": "python",
   "pygments_lexer": "ipython3",
   "version": "3.7.6-final"
  },
  "orig_nbformat": 2,
  "kernelspec": {
   "name": "myenv",
   "display_name": "Python (myenv)"
  }
 },
 "nbformat": 4,
 "nbformat_minor": 2,
 "cells": [
  {
   "cell_type": "code",
   "execution_count": 40,
   "metadata": {},
   "outputs": [],
   "source": [
    "import pandas as pd \n",
    "import numpy as np\n",
    "from sklearn import preprocessing"
   ]
  },
  {
   "cell_type": "code",
   "execution_count": 41,
   "metadata": {},
   "outputs": [
    {
     "output_type": "execute_result",
     "data": {
      "text/plain": "(379, 14)"
     },
     "metadata": {},
     "execution_count": 41
    }
   ],
   "source": [
    "boston_train = np.loadtxt(\"0000000000002417_training_boston_x_y_train.csv\", delimiter=\",\")\n",
    "boston_train.shape"
   ]
  },
  {
   "source": [
    "Fetching out X_train and Y_train"
   ],
   "cell_type": "markdown",
   "metadata": {}
  },
  {
   "cell_type": "code",
   "execution_count": 42,
   "metadata": {
    "tags": []
   },
   "outputs": [
    {
     "output_type": "stream",
     "name": "stdout",
     "text": "(379, 13)\n(379,)\n"
    }
   ],
   "source": [
    "X_train = boston_train[:,:13]\n",
    "Y_train = boston_train[:,13]\n",
    "\n",
    "print(X_train.shape)\n",
    "print(Y_train.shape)"
   ]
  },
  {
   "source": [
    "Squaring each feature"
   ],
   "cell_type": "markdown",
   "metadata": {}
  },
  {
   "cell_type": "code",
   "execution_count": 43,
   "metadata": {
    "tags": []
   },
   "outputs": [
    {
     "output_type": "execute_result",
     "data": {
      "text/plain": "(379, 182)"
     },
     "metadata": {},
     "execution_count": 43
    }
   ],
   "source": [
    "X_train=pd.DataFrame(X_train)\n",
    "\n",
    "# print(X_train)\n",
    "cols=X_train.shape[1]\n",
    "index=cols\n",
    "for i in range(cols):\n",
    "    for j in range(cols): \n",
    "        X_train[index]=X_train[i]*X_train[j]\n",
    "        index=index+1\n",
    "\n",
    "\n",
    "X_train.shape\n"
   ]
  },
  {
   "cell_type": "code",
   "execution_count": 105,
   "metadata": {},
   "outputs": [],
   "source": [
    "scaler = preprocessing.StandardScaler()\n",
    "scaler.fit(X_train)\n",
    "X_train=scaler.transform(X_train)\n",
    "X_train=pd.DataFrame(X_train)\n",
    "X_train[X_train.shape[1]]=1\n"
   ]
  },
  {
   "cell_type": "code",
   "execution_count": 45,
   "metadata": {},
   "outputs": [
    {
     "output_type": "execute_result",
     "data": {
      "text/plain": "(379, 183)"
     },
     "metadata": {},
     "execution_count": 45
    }
   ],
   "source": [
    "X_train=np.array(X_train)\n",
    "X_train.shape"
   ]
  },
  {
   "cell_type": "code",
   "execution_count": 90,
   "metadata": {
    "tags": []
   },
   "outputs": [
    {
     "output_type": "stream",
     "name": "stdout",
     "text": "cost 0 : 377.5594146024955\ncost 1 : 251.05754207674238\ncost 2 : 169.51290018954202\ncost 3 : 115.95410361728838\ncost 4 : 80.54236637356979\ncost 5 : 57.048700106256504\ncost 6 : 41.421477924580735\ncost 7 : 30.999041952669867\ncost 8 : 24.02565500330639\ncost 9 : 19.34085527739734\ncost 10 : 16.17672610705167\ncost 11 : 14.02466291782431\ncost 12 : 12.547532127826504\ncost 13 : 11.521663317269393\ncost 14 : 10.798507707950879\ncost 15 : 10.279280898744384\ncost 16 : 9.898185554348489\ncost 17 : 9.611306645751599\ncost 18 : 9.389258363584698\ncost 19 : 9.212312981141784\ncost 20 : 9.067172106731974\ncost 21 : 8.944825075369673\ncost 22 : 8.83912719459049\ncost 23 : 8.745854849538897\ncost 24 : 8.662076668896786\ncost 25 : 8.585734317816053\ncost 26 : 8.515362444976272\ncost 27 : 8.449901101802647\ncost 28 : 8.3885696944502\ncost 29 : 8.330781948787607\ncost 30 : 8.276088267438437\ncost 31 : 8.224136427629706\ncost 32 : 8.1746445971851\ncost 33 : 8.12738265461918\ncost 34 : 8.082159132612306\ncost 35 : 8.038811990172716\ncost 36 : 7.997202008369691\ncost 37 : 7.957207997485518\ncost 38 : 7.918723265878514\ncost 39 : 7.881652976556347\ncost 40 : 7.845912135442491\ncost 41 : 7.811424034826253\ncost 42 : 7.7781190292929\ncost 43 : 7.745933558028328\ncost 44 : 7.7148093524331705\ncost 45 : 7.684692785233214\ncost 46 : 7.655534329253026\ncost 47 : 7.627288102414121\ncost 48 : 7.599911481460609\ncost 49 : 7.573364771166813\ncost 50 : 7.547610918860381\ncost 51 : 7.5226152663522425\ncost 52 : 7.498345333041761\ncost 53 : 7.474770625228091\ncost 54 : 7.451862467620999\ncost 55 : 7.429593853788053\ncost 56 : 7.407939312855835\ncost 57 : 7.386874790241895\ncost 58 : 7.366377540561527\ncost 59 : 7.34642603114861\ncost 60 : 7.326999854870816\ncost 61 : 7.3080796511168735\ncost 62 : 7.289647033996011\ncost 63 : 7.2716845269259025\ncost 64 : 7.254175502897981\ncost 65 : 7.237104129804484\ncost 66 : 7.2204553202919035\ncost 67 : 7.20421468567363\ncost 68 : 7.188368493492703\ncost 69 : 7.172903628375282\ncost 70 : 7.157807555857999\ncost 71 : 7.14306828890923\ncost 72 : 7.12867435689598\ncost 73 : 7.1146147767758\ncost 74 : 7.100879026316806\ncost 75 : 7.087457019170205\ncost 76 : 7.07433908163771\ncost 77 : 7.061515930992535\ncost 78 : 7.048978655226593\ncost 79 : 7.036718694109266\ncost 80 : 7.024727821453949\ncost 81 : 7.012998128498532\ncost 82 : 7.001522008314484\ncost 83 : 6.990292141167312\ncost 84 : 6.979301480757797\ncost 85 : 6.968543241279731\ncost 86 : 6.958010885235527\ncost 87 : 6.947698111955947\ncost 88 : 6.937598846774793\ncost 89 : 6.927707230813495\ncost 90 : 6.918017611334064\ncost 91 : 6.908524532622384\ncost 92 : 6.899222727366724\ncost 93 : 6.890107108499162\ncost 94 : 6.881172761469926\ncost 95 : 6.872414936927288\ncost 96 : 6.863829043777315\ncost 97 : 6.8554106425998675\ncost 98 : 6.8471554393990415\ncost 99 : 6.839059279667701\n"
    }
   ],
   "source": [
    "learning_rate=0.1\n",
    "iterations=100\n",
    "m=run(X_train,Y_train,learning_rate,iterations)\n"
   ]
  },
  {
   "cell_type": "code",
   "execution_count": 104,
   "metadata": {
    "tags": []
   },
   "outputs": [
    {
     "output_type": "stream",
     "name": "stdout",
     "text": "0.9222240587974565\n"
    }
   ],
   "source": [
    "Y_pred_train=predict(X_train,m)\n",
    "print(score(Y_train,Y_pred_train))"
   ]
  },
  {
   "cell_type": "code",
   "execution_count": 91,
   "metadata": {},
   "outputs": [],
   "source": [
    "def run(X_train,y_train,learning_rate,iterations):\n",
    "    m=np.zeros(X_train.shape[1],dtype=float)\n",
    "    for i in range(iterations):\n",
    "        m=step_gradient(X_train,Y_train,learning_rate,m)\n",
    "        print('cost',i,':',cost(X_train,Y_train,m))\n",
    "    return m\n",
    "\n"
   ]
  },
  {
   "cell_type": "code",
   "execution_count": 92,
   "metadata": {},
   "outputs": [],
   "source": [
    "def step_gradient(X_train,Y_train,learning_rate,m):\n",
    "    features=X_train.shape[1]\n",
    "    M=X_train.shape[0]\n",
    "\n",
    "    for i in range(M):\n",
    "        # slope=np.zeros(X_train.shape[1],dtype=float)\n",
    "        Y_truth=Y_train[i]\n",
    "       \n",
    "        Y_pred=np.sum(X_train[i]*m)\n",
    "        for j in range(features):\n",
    "            slope=-2/M*(Y_truth-Y_pred)*X_train[i][j]\n",
    "            m[j]=m[j]-learning_rate*slope\n",
    "    return m\n"
   ]
  },
  {
   "cell_type": "code",
   "execution_count": 93,
   "metadata": {},
   "outputs": [],
   "source": [
    "def cost(X_train,Y_train,m):\n",
    "    total_cost=0\n",
    "    M=X_train.shape[0]\n",
    "    for i in range(X_train.shape[0]):\n",
    "        sum=np.sum(X_train[i]*m)\n",
    "        total_cost += (1/M)*(Y_train[i] - sum)**2\n",
    "    return total_cost"
   ]
  },
  {
   "cell_type": "code",
   "execution_count": 100,
   "metadata": {},
   "outputs": [],
   "source": [
    "def score(y_truth,y_pred):\n",
    "    u=((y_truth-y_pred)**2).sum()\n",
    "    v=((y_truth-y_truth.mean())**2).sum()\n",
    "    \n",
    "    return 1-(u/v)"
   ]
  },
  {
   "cell_type": "code",
   "execution_count": 94,
   "metadata": {},
   "outputs": [],
   "source": [
    "X_test =  np.loadtxt(\"0000000000002417_test_boston_x_test.csv\", delimiter=\",\")"
   ]
  },
  {
   "cell_type": "code",
   "execution_count": 95,
   "metadata": {
    "tags": []
   },
   "outputs": [
    {
     "output_type": "execute_result",
     "data": {
      "text/plain": "numpy.ndarray"
     },
     "metadata": {},
     "execution_count": 95
    }
   ],
   "source": [
    "\n",
    "X_test=pd.DataFrame(X_test)\n",
    "# print(X_train)\n",
    "cols=X_test.shape[1]\n",
    "index=cols\n",
    "for i in range(cols):\n",
    "    for j in range(cols): \n",
    "        X_test[index]=X_test[i]*X_test[j]\n",
    "        index=index+1\n",
    "\n",
    "X_test=scaler.transform(X_test)\n",
    "X_test=pd.DataFrame(X_test)\n",
    "\n",
    "X_test[X_test.shape[1]]=1\n",
    "# print(X_test)\n",
    "X_test=np.array(X_test)\n",
    "type(X_test)"
   ]
  },
  {
   "cell_type": "code",
   "execution_count": 102,
   "metadata": {
    "tags": []
   },
   "outputs": [],
   "source": [
    "def predict(X,m):\n",
    "    Y=np.zeros(X.shape[0],dtype=float)\n",
    "    M=X.shape[0]\n",
    "    for i in range(M):\n",
    "        # print(X[i].shape)\n",
    "        Y[i]=np.sum(X[i]*m)\n",
    "        pass\n",
    "    return Y"
   ]
  },
  {
   "cell_type": "code",
   "execution_count": 97,
   "metadata": {
    "tags": []
   },
   "outputs": [
    {
     "output_type": "stream",
     "name": "stdout",
     "text": "(127,)\n"
    },
    {
     "output_type": "execute_result",
     "data": {
      "text/plain": "(127,)"
     },
     "metadata": {},
     "execution_count": 97
    }
   ],
   "source": [
    "Y_pred=predict(X_test,m)\n",
    "Y_pred.shape"
   ]
  },
  {
   "cell_type": "code",
   "execution_count": 98,
   "metadata": {},
   "outputs": [],
   "source": [
    "np.savetxt('Y_predicted.csv',Y_pred)"
   ]
  }
 ]
}