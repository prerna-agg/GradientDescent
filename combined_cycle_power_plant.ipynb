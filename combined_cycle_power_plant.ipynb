{
 "metadata": {
  "language_info": {
   "codemirror_mode": {
    "name": "ipython",
    "version": 3
   },
   "file_extension": ".py",
   "mimetype": "text/x-python",
   "name": "python",
   "nbconvert_exporter": "python",
   "pygments_lexer": "ipython3",
   "version": "3.7.6-final"
  },
  "orig_nbformat": 2,
  "kernelspec": {
   "name": "myenv",
   "display_name": "Python (myenv)"
  }
 },
 "nbformat": 4,
 "nbformat_minor": 2,
 "cells": [
  {
   "cell_type": "code",
   "execution_count": 102,
   "metadata": {},
   "outputs": [],
   "source": [
    "import pandas as pd \n",
    "import numpy as np\n",
    "from sklearn import preprocessing\n",
    "from sklearn.preprocessing import MinMaxScaler"
   ]
  },
  {
   "cell_type": "code",
   "execution_count": 103,
   "metadata": {},
   "outputs": [
    {
     "output_type": "execute_result",
     "data": {
      "text/plain": "(7176, 5)"
     },
     "metadata": {},
     "execution_count": 103
    }
   ],
   "source": [
    "ccpp_train = np.loadtxt(\"0000000000002419_training_ccpp_x_y_train.csv\", delimiter=\",\")\n",
    "ccpp_train.shape"
   ]
  },
  {
   "cell_type": "code",
   "execution_count": 104,
   "metadata": {
    "tags": []
   },
   "outputs": [
    {
     "output_type": "stream",
     "name": "stdout",
     "text": "(7176, 4)\n(7176,)\n"
    }
   ],
   "source": [
    "X_train = ccpp_train[:,:ccpp_train.shape[1]-1]\n",
    "Y_train = ccpp_train[:,ccpp_train.shape[1]-1]\n",
    "\n",
    "print(X_train.shape)\n",
    "print(Y_train.shape)"
   ]
  },
  {
   "cell_type": "code",
   "execution_count": 105,
   "metadata": {
    "tags": []
   },
   "outputs": [
    {
     "output_type": "execute_result",
     "data": {
      "text/plain": "(7176, 20)"
     },
     "metadata": {},
     "execution_count": 105
    }
   ],
   "source": [
    "X_train=pd.DataFrame(X_train)\n",
    "cols=X_train.shape[1]\n",
    "index=cols\n",
    "for i in range(cols):\n",
    "    for j in range(cols): \n",
    "        X_train[index]=X_train[i]*X_train[j]\n",
    "        index=index+1\n",
    "\n",
    "\n",
    "X_train.shape"
   ]
  },
  {
   "cell_type": "code",
   "execution_count": 106,
   "metadata": {
    "tags": []
   },
   "outputs": [],
   "source": [
    "scaler = preprocessing.StandardScaler()\n",
    "# scaler = preprocessing.MinMaxScaler()\n",
    "scaler.fit(X_train)\n",
    "\n",
    "X_train=scaler.transform(X_train)\n",
    "X_train=pd.DataFrame(X_train)\n",
    "\n",
    "X_train[X_train.shape[1]]=1\n"
   ]
  },
  {
   "cell_type": "code",
   "execution_count": 107,
   "metadata": {},
   "outputs": [
    {
     "output_type": "execute_result",
     "data": {
      "text/plain": "(7176, 21)"
     },
     "metadata": {},
     "execution_count": 107
    }
   ],
   "source": [
    "X_train=np.array(X_train)\n",
    "X_train.shape"
   ]
  },
  {
   "cell_type": "code",
   "execution_count": 108,
   "metadata": {},
   "outputs": [],
   "source": [
    "def run(X_train,y_train,learning_rate,iterations):\n",
    "    m=np.zeros(X_train.shape[1],dtype=float)\n",
    "    for i in range(iterations):\n",
    "        m=step_gradient(X_train,Y_train,learning_rate,m)\n",
    "        print('cost',i,':',cost(X_train,Y_train,m))\n",
    "    return m"
   ]
  },
  {
   "cell_type": "code",
   "execution_count": 109,
   "metadata": {},
   "outputs": [],
   "source": [
    "def step_gradient(X_train,Y_train,learning_rate,m):\n",
    "    features=X_train.shape[1]\n",
    "    M=X_train.shape[0]\n",
    "\n",
    "    for i in range(M):\n",
    "        # slope=np.zeros(X_train.shape[1],dtype=float)\n",
    "        Y_truth=Y_train[i]\n",
    "       \n",
    "        Y_pred=np.sum(X_train[i]*m)\n",
    "        for j in range(features):\n",
    "            slope=-2/M*(Y_truth-Y_pred)*X_train[i][j]\n",
    "            m[j]=m[j]-learning_rate*slope\n",
    "    return m\n"
   ]
  },
  {
   "cell_type": "code",
   "execution_count": 110,
   "metadata": {},
   "outputs": [],
   "source": [
    "def cost(X_train,Y_train,m):\n",
    "    total_cost=0\n",
    "    M=X_train.shape[0]\n",
    "    for i in range(X_train.shape[0]):\n",
    "        sum=np.sum(X_train[i]*m)\n",
    "        total_cost += (1/M)*(Y_train[i] - sum)**2\n",
    "    return total_cost"
   ]
  },
  {
   "cell_type": "code",
   "execution_count": 111,
   "metadata": {},
   "outputs": [],
   "source": [
    "def predict(X,m):\n",
    "    Y=np.zeros(X.shape[0],dtype=float)\n",
    "    M=X.shape[0]\n",
    "    for i in range(M):\n",
    "        # print(X[i].shape)\n",
    "        Y[i]=np.sum(X[i]*m)\n",
    "        pass\n",
    "    return Y"
   ]
  },
  {
   "cell_type": "code",
   "execution_count": 112,
   "metadata": {},
   "outputs": [],
   "source": [
    "def score(y_truth,y_pred):\n",
    "    u=((y_truth-y_pred)**2).sum()\n",
    "    v=((y_truth-y_truth.mean())**2).sum()\n",
    "    \n",
    "    return 1-(u/v)"
   ]
  },
  {
   "cell_type": "code",
   "execution_count": 114,
   "metadata": {
    "tags": []
   },
   "outputs": [
    {
     "output_type": "stream",
     "name": "stdout",
     "text": "cost 0 : 27939.203478046526\ncost 1 : 3795.164161151017\ncost 2 : 531.2360321929623\ncost 3 : 89.73190571324118\ncost 4 : 29.880675717064094\ncost 5 : 21.690003517674104\ncost 6 : 20.51308387003795\ncost 7 : 20.297754962776718\ncost 8 : 20.219209347356607\ncost 9 : 20.163257307401842\ncost 10 : 20.11328624921942\ncost 11 : 20.066463181312944\ncost 12 : 20.022061682179103\ncost 13 : 19.97975231174126\ncost 14 : 19.939318635687133\ncost 15 : 19.900595630750132\ncost 16 : 19.863449823128512\ncost 17 : 19.82777001341762\ncost 18 : 19.79346177111218\ncost 19 : 19.760443703195964\ncost 20 : 19.7286447404377\ncost 21 : 19.698002089281516\ncost 22 : 19.668459655355015\ncost 23 : 19.63996681662864\ncost 24 : 19.612477462213317\ncost 25 : 19.585949235611096\ncost 26 : 19.56034293646142\ncost 27 : 19.535622045660823\ncost 28 : 19.511752346788512\ncost 29 : 19.48870162285862\ncost 30 : 19.466439412096523\ncost 31 : 19.444936810050415\ncost 32 : 19.424166308138332\ncost 33 : 19.404101660914442\ncost 34 : 19.3847177760187\ncost 35 : 19.365990622097154\ncost 36 : 19.347897151002552\ncost 37 : 19.330415231383213\ncost 38 : 19.31352359139478\ncost 39 : 19.29720176875652\ncost 40 : 19.28143006674891\ncost 41 : 19.266189515054027\ncost 42 : 19.25146183456564\ncost 43 : 19.237229405481983\ncost 44 : 19.223475238135283\ncost 45 : 19.2101829461234\ncost 46 : 19.197336721395608\ncost 47 : 19.18492131101653\ncost 48 : 19.172921995382275\ncost 49 : 19.16132456770881\ncost 50 : 19.150115314643784\ncost 51 : 19.139280997881556\ncost 52 : 19.128808836680896\ncost 53 : 19.118686491202375\ncost 54 : 19.1089020465962\ncost 55 : 19.099443997780572\ncost 56 : 19.090301234860352\ncost 57 : 19.08146302914329\ncost 58 : 19.072919019714416\ncost 59 : 19.0646592005378\ncost 60 : 19.05667390805322\ncost 61 : 19.048953809244143\ncost 62 : 19.041489890150974\ncost 63 : 19.034273444810125\ncost 64 : 19.027296064597888\ncost 65 : 19.020549627960794\ncost 66 : 19.014026290516576\ncost 67 : 19.007718475509247\ncost 68 : 19.001618864605117\ncost 69 : 18.995720389013446\ncost 70 : 18.99001622092135\ncost 71 : 18.98449976523052\ncost 72 : 18.979164651580994\ncost 73 : 18.974004726656265\ncost 74 : 18.969014046755102\ncost 75 : 18.964186870621205\ncost 76 : 18.959517652522766\ncost 77 : 18.955001035570707\ncost 78 : 18.950631845267953\ncost 79 : 18.946405083282183\ncost 80 : 18.942315921431536\ncost 81 : 18.938359695879406\ncost 82 : 18.93453190152697\ncost 83 : 18.93082818659971\ncost 84 : 18.927244347419098\ncost 85 : 18.923776323353916\ncost 86 : 18.920420191943723\ncost 87 : 18.917172164191033\ncost 88 : 18.91402858001293\ncost 89 : 18.91098590384902\ncost 90 : 18.90804072041949\ncost 91 : 18.905189730628553\ncost 92 : 18.902429747606952\ncost 93 : 18.899757692890432\ncost 94 : 18.897170592728244\ncost 95 : 18.894665574517308\ncost 96 : 18.892239863359208\ncost 97 : 18.889890778733456\ncost 98 : 18.887615731284388\ncost 99 : 18.885412219718564\n"
    }
   ],
   "source": [
    "learning_rate=0.5\n",
    "iterations=100\n",
    "m=run(X_train,Y_train,learning_rate,iterations)"
   ]
  },
  {
   "cell_type": "code",
   "execution_count": 115,
   "metadata": {
    "tags": []
   },
   "outputs": [
    {
     "output_type": "stream",
     "name": "stdout",
     "text": "0.9356660060808389\n"
    }
   ],
   "source": [
    "Y_pred_train=predict(X_train,m)\n",
    "print(score(Y_train,Y_pred_train))"
   ]
  },
  {
   "cell_type": "code",
   "execution_count": 116,
   "metadata": {},
   "outputs": [],
   "source": [
    "X_test =  np.loadtxt(\"0000000000002419_test_ccpp_x_test.csv\", delimiter=\",\")"
   ]
  },
  {
   "cell_type": "code",
   "execution_count": 117,
   "metadata": {},
   "outputs": [
    {
     "output_type": "execute_result",
     "data": {
      "text/plain": "numpy.ndarray"
     },
     "metadata": {},
     "execution_count": 117
    }
   ],
   "source": [
    "\n",
    "X_test=pd.DataFrame(X_test)\n",
    "# print(X_train)\n",
    "cols=X_test.shape[1]\n",
    "index=cols\n",
    "for i in range(cols):\n",
    "    for j in range(cols): \n",
    "        X_test[index]=X_test[i]*X_test[j]\n",
    "        index=index+1\n",
    "\n",
    "X_test=scaler.transform(X_test)\n",
    "X_test=pd.DataFrame(X_test)\n",
    "\n",
    "X_test[X_test.shape[1]]=1\n",
    "# print(X_test)\n",
    "X_test=np.array(X_test)\n",
    "type(X_test)"
   ]
  },
  {
   "cell_type": "code",
   "execution_count": 118,
   "metadata": {},
   "outputs": [
    {
     "output_type": "execute_result",
     "data": {
      "text/plain": "(2392,)"
     },
     "metadata": {},
     "execution_count": 118
    }
   ],
   "source": [
    "Y_pred=predict(X_test,m)\n",
    "Y_pred.shape"
   ]
  },
  {
   "cell_type": "code",
   "execution_count": 119,
   "metadata": {},
   "outputs": [],
   "source": [
    "np.savetxt('Y_predicted_ccpp.csv',Y_pred)"
   ]
  }
 ]
}